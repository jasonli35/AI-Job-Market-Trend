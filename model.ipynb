{
 "cells": [
  {
   "cell_type": "code",
   "execution_count": 57,
   "metadata": {},
   "outputs": [],
   "source": [
    "def convert_one_hot_to_vector(s):\n",
    "    \"\"\"\n",
    "    Convert a string representation of a boolean list to a vector of 0s and 1s.\n",
    "    \n",
    "    Parameters:\n",
    "    s (str): The string representation of the boolean list.\n",
    "    \n",
    "    Returns:\n",
    "    list: A list of 0s and 1s.\n",
    "    \"\"\"\n",
    "    # Remove brackets and split the string by commas\n",
    "    bool_list = s.strip('[]').split(',')\n",
    "    \n",
    "    # Convert 'True' to 1 and 'False' to 0\n",
    "    vector = [1 if item.strip() == 'True' else 0 for item in bool_list]\n",
    "    \n",
    "    return vector"
   ]
  },
  {
   "cell_type": "code",
   "execution_count": 59,
   "metadata": {},
   "outputs": [
    {
     "name": "stdout",
     "output_type": "stream",
     "text": [
      "[ 0.00000000e+00  1.00000000e+00  0.00000000e+00  0.00000000e+00\n",
      "  0.00000000e+00  0.00000000e+00  0.00000000e+00  1.00000000e+00\n",
      "  0.00000000e+00  0.00000000e+00  0.00000000e+00  0.00000000e+00\n",
      "  1.71335520e+09  3.74863239e+01 -1.22232523e+02  1.80000000e+05]\n"
     ]
    }
   ],
   "source": [
    "import numpy as np\n",
    "np_x = x.to_numpy()\n",
    "\n",
    "def flatten_row(row):\n",
    "    flattened = []\n",
    "    for element in row:\n",
    "        if isinstance(element, list):\n",
    "            flattened.extend(element)  # Flatten the list\n",
    "        else:\n",
    "            flattened.append(element)  # Add scalar values as they are\n",
    "    return flattened\n",
    "\n",
    "# Apply the flattening function to all rows\n",
    "flattened_np_x = np.array([flatten_row(row) for row in np_x])\n",
    "\n",
    "print(flattened_np_x[1])\n",
    "\n"
   ]
  },
  {
   "cell_type": "code",
   "execution_count": 60,
   "metadata": {},
   "outputs": [
    {
     "data": {
      "text/plain": [
       "False"
      ]
     },
     "execution_count": 60,
     "metadata": {},
     "output_type": "execute_result"
    }
   ],
   "source": [
    "#get all rows from the 11th column of 12th\n",
    "\n",
    "np.isnan(flattened_np_x[:, 13:14]).any()\n",
    "#drop the row with nan values as well as its corresponding row in y\n",
    "y = y[~np.isnan(flattened_np_x).any(axis=1)]\n",
    "flattened_np_x = flattened_np_x[~np.isnan(flattened_np_x).any(axis=1)]\n",
    "\n",
    "\n",
    "\n",
    "\n",
    "np.isnan(flattened_np_x).any()\n",
    "\n"
   ]
  },
  {
   "cell_type": "code",
   "execution_count": 61,
   "metadata": {},
   "outputs": [],
   "source": [
    "#split training and testset\n",
    "from sklearn.model_selection import train_test_split\n",
    "x_train, x_test, y_train, y_test = train_test_split(flattened_np_x, y, test_size=0.15, random_state=0)\n"
   ]
  },
  {
   "cell_type": "code",
   "execution_count": 62,
   "metadata": {},
   "outputs": [
    {
     "data": {
      "text/plain": [
       "array([ 0.00000000e+00,  1.00000000e+00,  0.00000000e+00,  0.00000000e+00,\n",
       "        0.00000000e+00,  0.00000000e+00,  0.00000000e+00,  0.00000000e+00,\n",
       "        0.00000000e+00,  0.00000000e+00,  1.00000000e+00,  0.00000000e+00,\n",
       "        1.71555840e+09,  3.97837304e+01, -1.00445882e+02,  5.51597033e+05])"
      ]
     },
     "execution_count": 62,
     "metadata": {},
     "output_type": "execute_result"
    }
   ],
   "source": [
    "x_train[0]"
   ]
  },
  {
   "cell_type": "code",
   "execution_count": 63,
   "metadata": {},
   "outputs": [
    {
     "name": "stdout",
     "output_type": "stream",
     "text": [
      "decision tree mse:  337.56842088687324\n"
     ]
    }
   ],
   "source": [
    "#decision tree model \n",
    "from sklearn import tree\n",
    "from sklearn.metrics import mean_squared_error\n",
    "\n",
    "clf_dt_over = tree.DecisionTreeRegressor()\n",
    "clf_dt_over = clf_dt_over.fit(x_train, y_train)\n",
    "predictions_dt = clf_dt_over.predict(x_test)\n",
    "#find mse of decision tree model\n",
    "\n",
    "mse_dt = mean_squared_error(y_test, predictions_dt)\n",
    "print(\"decision tree mse: \", mse_dt / len(y_test))"
   ]
  },
  {
   "cell_type": "code",
   "execution_count": 64,
   "metadata": {},
   "outputs": [
    {
     "name": "stdout",
     "output_type": "stream",
     "text": [
      "False\n"
     ]
    }
   ],
   "source": [
    "#find which colum of x_train contain NaN\n",
    "\n",
    "print(np.isnan(x_train).any())"
   ]
  },
  {
   "cell_type": "code",
   "execution_count": 65,
   "metadata": {},
   "outputs": [
    {
     "name": "stdout",
     "output_type": "stream",
     "text": [
      "random forest mse:  219.87560679595114\n"
     ]
    }
   ],
   "source": [
    "#train random forest model\n",
    "from sklearn.ensemble import RandomForestRegressor\n",
    "clf_rf_over = RandomForestRegressor()\n",
    "clf_rf_over = clf_rf_over.fit(x_train, y_train)\n",
    "predictions_rf = clf_rf_over.predict(x_test)\n",
    "#find mse of random forest model\n",
    "mse_rf = mean_squared_error(y_test, predictions_rf)\n",
    "print(\"random forest mse: \", mse_rf / len(y_test))"
   ]
  },
  {
   "cell_type": "code",
   "execution_count": 66,
   "metadata": {},
   "outputs": [
    {
     "name": "stdout",
     "output_type": "stream",
     "text": [
      "linear regression mse:  15375.099473479504\n"
     ]
    }
   ],
   "source": [
    "#train linear regression model\n",
    "from sklearn.linear_model import LinearRegression\n",
    "clf_lr_over = LinearRegression()\n",
    "clf_lr_over = clf_lr_over.fit(x_train, y_train)\n",
    "predictions_lr = clf_lr_over.predict(x_test)\n",
    "#find mse of linear regression model\n",
    "mse_lr = mean_squared_error(y_test, predictions_lr)\n",
    "print(\"linear regression mse: \", mse_lr / len(y_test))"
   ]
  },
  {
   "cell_type": "code",
   "execution_count": 67,
   "metadata": {},
   "outputs": [
    {
     "name": "stdout",
     "output_type": "stream",
     "text": [
      "gradient boosting mse:  184.23631521941198\n"
     ]
    }
   ],
   "source": [
    "#train gradient boosting model\n",
    "from sklearn.ensemble import GradientBoostingRegressor\n",
    "clf_gb_over = GradientBoostingRegressor()\n",
    "clf_gb_over = clf_gb_over.fit(x_train, y_train)\n",
    "predictions_gb = clf_gb_over.predict(x_test)\n",
    "#find mse of gradient boosting model\n",
    "mse_gb = mean_squared_error(y_test, predictions_gb)\n",
    "print(\"gradient boosting mse: \", mse_gb / len(y_test))"
   ]
  },
  {
   "cell_type": "code",
   "execution_count": 68,
   "metadata": {},
   "outputs": [
    {
     "name": "stdout",
     "output_type": "stream",
     "text": [
      "support vector machine mse:  303.0401389010824\n"
     ]
    }
   ],
   "source": [
    "#train support vector machine model\n",
    "from sklearn.svm import SVR\n",
    "clf_svm_over = SVR()\n",
    "clf_svm_over = clf_svm_over.fit(x_train, y_train)\n",
    "predictions_svm = clf_svm_over.predict(x_test)\n",
    "#find mse of support vector machine model\n",
    "mse_svm = mean_squared_error(y_test, predictions_svm)\n",
    "print(\"support vector machine mse: \", mse_svm / len(y_test))\n"
   ]
  },
  {
   "cell_type": "code",
   "execution_count": 69,
   "metadata": {},
   "outputs": [
    {
     "name": "stdout",
     "output_type": "stream",
     "text": [
      "gaussian generative model mse:  276.2532753842278\n"
     ]
    }
   ],
   "source": [
    "#train model using gaussian generative model\n",
    "from sklearn.naive_bayes import GaussianNB\n",
    "clf_gnb_over = GaussianNB()\n",
    "clf_gnb_over = clf_gnb_over.fit(x_train, y_train)\n",
    "predictions_gnb = clf_gnb_over.predict(x_test)\n",
    "#find mse of gaussian generative model\n",
    "mse_gnb = mean_squared_error(y_test, predictions_gnb)\n",
    "print(\"gaussian generative model mse: \", mse_gnb / len(y_test))\n"
   ]
  },
  {
   "cell_type": "code",
   "execution_count": 70,
   "metadata": {},
   "outputs": [
    {
     "name": "stdout",
     "output_type": "stream",
     "text": [
      "neural network mse:  4705021136.759831\n"
     ]
    }
   ],
   "source": [
    "#train on neural network model\n",
    "from sklearn.neural_network import MLPRegressor\n",
    "clf_nn_over = MLPRegressor()\n",
    "clf_nn_over = clf_nn_over.fit(x_train, y_train)\n",
    "predictions_nn = clf_nn_over.predict(x_test)\n",
    "#find mse of neural network model\n",
    "mse_nn = mean_squared_error(y_test, predictions_nn)\n",
    "print(\"neural network mse: \", mse_nn / len(y_test))"
   ]
  }
 ],
 "metadata": {
  "kernelspec": {
   "display_name": "cse158",
   "language": "python",
   "name": "python3"
  },
  "language_info": {
   "codemirror_mode": {
    "name": "ipython",
    "version": 3
   },
   "file_extension": ".py",
   "mimetype": "text/x-python",
   "name": "python",
   "nbconvert_exporter": "python",
   "pygments_lexer": "ipython3",
   "version": "3.9.18"
  }
 },
 "nbformat": 4,
 "nbformat_minor": 2
}
