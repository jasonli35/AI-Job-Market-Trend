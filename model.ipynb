{
 "cells": [
  {
   "cell_type": "code",
   "execution_count": 1,
   "metadata": {},
   "outputs": [],
   "source": [
    "def convert_one_hot_to_vector(s):\n",
    "    \"\"\"\n",
    "    Convert a string representation of a boolean list to a vector of 0s and 1s.\n",
    "    \n",
    "    Parameters:\n",
    "    s (str): The string representation of the boolean list.\n",
    "    \n",
    "    Returns:\n",
    "    list: A list of 0s and 1s.\n",
    "    \"\"\"\n",
    "    # Remove brackets and split the string by commas\n",
    "    bool_list = s.strip('[]').split(',')\n",
    "    \n",
    "    # Convert 'True' to 1 and 'False' to 0\n",
    "    vector = [1 if item.strip() == 'True' else 0 for item in bool_list]\n",
    "    \n",
    "    return vector"
   ]
  },
  {
   "cell_type": "code",
   "execution_count": null,
   "metadata": {},
   "outputs": [],
   "source": []
  }
 ],
 "metadata": {
  "kernelspec": {
   "display_name": "cse158",
   "language": "python",
   "name": "python3"
  },
  "language_info": {
   "codemirror_mode": {
    "name": "ipython",
    "version": 3
   },
   "file_extension": ".py",
   "mimetype": "text/x-python",
   "name": "python",
   "nbconvert_exporter": "python",
   "pygments_lexer": "ipython3",
   "version": "3.9.18"
  }
 },
 "nbformat": 4,
 "nbformat_minor": 2
}
